{
  "nbformat": 4,
  "nbformat_minor": 0,
  "metadata": {
    "colab": {
      "name": "31048_Assignment2.ipynb",
      "provenance": []
    },
    "kernelspec": {
      "name": "python3",
      "display_name": "Python 3"
    }
  },
  "cells": [
    {
      "cell_type": "code",
      "metadata": {
        "id": "oRM_DHAyjwVA"
      },
      "source": [
        "from google.colab import drive"
      ],
      "execution_count": 1,
      "outputs": []
    },
    {
      "cell_type": "code",
      "metadata": {
        "colab": {
          "base_uri": "https://localhost:8080/"
        },
        "id": "4rBMPQ24kK3P",
        "outputId": "8bff9e71-03b1-4601-cac3-17f7f7f06e9f"
      },
      "source": [
        "drive.mount('/content/drive')"
      ],
      "execution_count": 2,
      "outputs": [
        {
          "output_type": "stream",
          "text": [
            "Mounted at /content/drive\n"
          ],
          "name": "stdout"
        }
      ]
    },
    {
      "cell_type": "code",
      "metadata": {
        "id": "zAQjL_o4n-ju"
      },
      "source": [
        "import numpy as np\r\n",
        "import pandas as pd"
      ],
      "execution_count": 5,
      "outputs": []
    },
    {
      "cell_type": "markdown",
      "metadata": {
        "id": "gKCl8At6nuV7"
      },
      "source": [
        "# **Analyzing 2 Stocks Using Normal Distribution:**"
      ]
    },
    {
      "cell_type": "code",
      "metadata": {
        "colab": {
          "base_uri": "https://localhost:8080/",
          "height": 195
        },
        "id": "_8c3lksqkRM0",
        "outputId": "74cc92d7-7ade-420f-b170-03a1a4046cc9"
      },
      "source": [
        "beml_df = pd.read_csv('/content/drive/MyDrive/31048_ComputationalStatistics/BEML.csv')\r\n",
        "beml_df.head()"
      ],
      "execution_count": 6,
      "outputs": [
        {
          "output_type": "execute_result",
          "data": {
            "text/html": [
              "<div>\n",
              "<style scoped>\n",
              "    .dataframe tbody tr th:only-of-type {\n",
              "        vertical-align: middle;\n",
              "    }\n",
              "\n",
              "    .dataframe tbody tr th {\n",
              "        vertical-align: top;\n",
              "    }\n",
              "\n",
              "    .dataframe thead th {\n",
              "        text-align: right;\n",
              "    }\n",
              "</style>\n",
              "<table border=\"1\" class=\"dataframe\">\n",
              "  <thead>\n",
              "    <tr style=\"text-align: right;\">\n",
              "      <th></th>\n",
              "      <th>Date</th>\n",
              "      <th>Open</th>\n",
              "      <th>High</th>\n",
              "      <th>Low</th>\n",
              "      <th>Last</th>\n",
              "      <th>Close</th>\n",
              "      <th>Total Trade Quantity</th>\n",
              "      <th>Turnover (Lacs)</th>\n",
              "    </tr>\n",
              "  </thead>\n",
              "  <tbody>\n",
              "    <tr>\n",
              "      <th>0</th>\n",
              "      <td>2010-01-04</td>\n",
              "      <td>1121.0</td>\n",
              "      <td>1151.00</td>\n",
              "      <td>1121.00</td>\n",
              "      <td>1134.0</td>\n",
              "      <td>1135.60</td>\n",
              "      <td>101651.0</td>\n",
              "      <td>1157.18</td>\n",
              "    </tr>\n",
              "    <tr>\n",
              "      <th>1</th>\n",
              "      <td>2010-01-05</td>\n",
              "      <td>1146.8</td>\n",
              "      <td>1149.00</td>\n",
              "      <td>1128.75</td>\n",
              "      <td>1135.0</td>\n",
              "      <td>1134.60</td>\n",
              "      <td>59504.0</td>\n",
              "      <td>676.47</td>\n",
              "    </tr>\n",
              "    <tr>\n",
              "      <th>2</th>\n",
              "      <td>2010-01-06</td>\n",
              "      <td>1140.0</td>\n",
              "      <td>1164.25</td>\n",
              "      <td>1130.05</td>\n",
              "      <td>1137.0</td>\n",
              "      <td>1139.60</td>\n",
              "      <td>128908.0</td>\n",
              "      <td>1482.84</td>\n",
              "    </tr>\n",
              "    <tr>\n",
              "      <th>3</th>\n",
              "      <td>2010-01-07</td>\n",
              "      <td>1142.0</td>\n",
              "      <td>1159.40</td>\n",
              "      <td>1119.20</td>\n",
              "      <td>1141.0</td>\n",
              "      <td>1144.15</td>\n",
              "      <td>117871.0</td>\n",
              "      <td>1352.98</td>\n",
              "    </tr>\n",
              "    <tr>\n",
              "      <th>4</th>\n",
              "      <td>2010-01-08</td>\n",
              "      <td>1156.0</td>\n",
              "      <td>1172.00</td>\n",
              "      <td>1140.00</td>\n",
              "      <td>1141.2</td>\n",
              "      <td>1144.05</td>\n",
              "      <td>170063.0</td>\n",
              "      <td>1971.42</td>\n",
              "    </tr>\n",
              "  </tbody>\n",
              "</table>\n",
              "</div>"
            ],
            "text/plain": [
              "         Date    Open     High  ...    Close  Total Trade Quantity  Turnover (Lacs)\n",
              "0  2010-01-04  1121.0  1151.00  ...  1135.60              101651.0          1157.18\n",
              "1  2010-01-05  1146.8  1149.00  ...  1134.60               59504.0           676.47\n",
              "2  2010-01-06  1140.0  1164.25  ...  1139.60              128908.0          1482.84\n",
              "3  2010-01-07  1142.0  1159.40  ...  1144.15              117871.0          1352.98\n",
              "4  2010-01-08  1156.0  1172.00  ...  1144.05              170063.0          1971.42\n",
              "\n",
              "[5 rows x 8 columns]"
            ]
          },
          "metadata": {
            "tags": []
          },
          "execution_count": 6
        }
      ]
    },
    {
      "cell_type": "code",
      "metadata": {
        "colab": {
          "base_uri": "https://localhost:8080/",
          "height": 195
        },
        "id": "32FgQNOtlfXN",
        "outputId": "23965cd1-aad4-45c0-ea84-147b86212b57"
      },
      "source": [
        "glaxo_df = pd.read_csv('/content/drive/MyDrive/31048_ComputationalStatistics/GLAXO.csv')\r\n",
        "glaxo_df.head()"
      ],
      "execution_count": 7,
      "outputs": [
        {
          "output_type": "execute_result",
          "data": {
            "text/html": [
              "<div>\n",
              "<style scoped>\n",
              "    .dataframe tbody tr th:only-of-type {\n",
              "        vertical-align: middle;\n",
              "    }\n",
              "\n",
              "    .dataframe tbody tr th {\n",
              "        vertical-align: top;\n",
              "    }\n",
              "\n",
              "    .dataframe thead th {\n",
              "        text-align: right;\n",
              "    }\n",
              "</style>\n",
              "<table border=\"1\" class=\"dataframe\">\n",
              "  <thead>\n",
              "    <tr style=\"text-align: right;\">\n",
              "      <th></th>\n",
              "      <th>Date</th>\n",
              "      <th>Open</th>\n",
              "      <th>High</th>\n",
              "      <th>Low</th>\n",
              "      <th>Last</th>\n",
              "      <th>Close</th>\n",
              "      <th>Total Trade Quantity</th>\n",
              "      <th>Turnover (Lacs)</th>\n",
              "    </tr>\n",
              "  </thead>\n",
              "  <tbody>\n",
              "    <tr>\n",
              "      <th>0</th>\n",
              "      <td>2010-01-04</td>\n",
              "      <td>1613.00</td>\n",
              "      <td>1629.10</td>\n",
              "      <td>1602.00</td>\n",
              "      <td>1629.0</td>\n",
              "      <td>1625.65</td>\n",
              "      <td>9365.0</td>\n",
              "      <td>151.74</td>\n",
              "    </tr>\n",
              "    <tr>\n",
              "      <th>1</th>\n",
              "      <td>2010-01-05</td>\n",
              "      <td>1639.95</td>\n",
              "      <td>1639.95</td>\n",
              "      <td>1611.05</td>\n",
              "      <td>1620.0</td>\n",
              "      <td>1616.80</td>\n",
              "      <td>38148.0</td>\n",
              "      <td>622.58</td>\n",
              "    </tr>\n",
              "    <tr>\n",
              "      <th>2</th>\n",
              "      <td>2010-01-06</td>\n",
              "      <td>1618.00</td>\n",
              "      <td>1644.00</td>\n",
              "      <td>1617.00</td>\n",
              "      <td>1639.0</td>\n",
              "      <td>1638.50</td>\n",
              "      <td>36519.0</td>\n",
              "      <td>595.09</td>\n",
              "    </tr>\n",
              "    <tr>\n",
              "      <th>3</th>\n",
              "      <td>2010-01-07</td>\n",
              "      <td>1645.00</td>\n",
              "      <td>1654.00</td>\n",
              "      <td>1636.00</td>\n",
              "      <td>1648.0</td>\n",
              "      <td>1648.70</td>\n",
              "      <td>12809.0</td>\n",
              "      <td>211.00</td>\n",
              "    </tr>\n",
              "    <tr>\n",
              "      <th>4</th>\n",
              "      <td>2010-01-08</td>\n",
              "      <td>1650.00</td>\n",
              "      <td>1650.00</td>\n",
              "      <td>1626.55</td>\n",
              "      <td>1640.0</td>\n",
              "      <td>1639.80</td>\n",
              "      <td>28035.0</td>\n",
              "      <td>459.11</td>\n",
              "    </tr>\n",
              "  </tbody>\n",
              "</table>\n",
              "</div>"
            ],
            "text/plain": [
              "         Date     Open     High  ...    Close  Total Trade Quantity  Turnover (Lacs)\n",
              "0  2010-01-04  1613.00  1629.10  ...  1625.65                9365.0           151.74\n",
              "1  2010-01-05  1639.95  1639.95  ...  1616.80               38148.0           622.58\n",
              "2  2010-01-06  1618.00  1644.00  ...  1638.50               36519.0           595.09\n",
              "3  2010-01-07  1645.00  1654.00  ...  1648.70               12809.0           211.00\n",
              "4  2010-01-08  1650.00  1650.00  ...  1639.80               28035.0           459.11\n",
              "\n",
              "[5 rows x 8 columns]"
            ]
          },
          "metadata": {
            "tags": []
          },
          "execution_count": 7
        }
      ]
    },
    {
      "cell_type": "code",
      "metadata": {
        "id": "YDgD2MLloJGH"
      },
      "source": [
        "beml_df = beml_df[['Date','Close']]\r\n",
        "glaxo_df = glaxo_df[['Date','Close']]"
      ],
      "execution_count": 8,
      "outputs": []
    },
    {
      "cell_type": "code",
      "metadata": {
        "colab": {
          "base_uri": "https://localhost:8080/",
          "height": 225
        },
        "id": "rAkrd6dpoo6e",
        "outputId": "5b642751-89bf-48b3-8f0f-3d3d5563c19b"
      },
      "source": [
        "beml_df = beml_df.set_index(pd.DatetimeIndex(beml_df['Date']))\r\n",
        "beml_df.head()"
      ],
      "execution_count": 10,
      "outputs": [
        {
          "output_type": "execute_result",
          "data": {
            "text/html": [
              "<div>\n",
              "<style scoped>\n",
              "    .dataframe tbody tr th:only-of-type {\n",
              "        vertical-align: middle;\n",
              "    }\n",
              "\n",
              "    .dataframe tbody tr th {\n",
              "        vertical-align: top;\n",
              "    }\n",
              "\n",
              "    .dataframe thead th {\n",
              "        text-align: right;\n",
              "    }\n",
              "</style>\n",
              "<table border=\"1\" class=\"dataframe\">\n",
              "  <thead>\n",
              "    <tr style=\"text-align: right;\">\n",
              "      <th></th>\n",
              "      <th>Date</th>\n",
              "      <th>Close</th>\n",
              "    </tr>\n",
              "    <tr>\n",
              "      <th>Date</th>\n",
              "      <th></th>\n",
              "      <th></th>\n",
              "    </tr>\n",
              "  </thead>\n",
              "  <tbody>\n",
              "    <tr>\n",
              "      <th>2010-01-04</th>\n",
              "      <td>2010-01-04</td>\n",
              "      <td>1135.60</td>\n",
              "    </tr>\n",
              "    <tr>\n",
              "      <th>2010-01-05</th>\n",
              "      <td>2010-01-05</td>\n",
              "      <td>1134.60</td>\n",
              "    </tr>\n",
              "    <tr>\n",
              "      <th>2010-01-06</th>\n",
              "      <td>2010-01-06</td>\n",
              "      <td>1139.60</td>\n",
              "    </tr>\n",
              "    <tr>\n",
              "      <th>2010-01-07</th>\n",
              "      <td>2010-01-07</td>\n",
              "      <td>1144.15</td>\n",
              "    </tr>\n",
              "    <tr>\n",
              "      <th>2010-01-08</th>\n",
              "      <td>2010-01-08</td>\n",
              "      <td>1144.05</td>\n",
              "    </tr>\n",
              "  </tbody>\n",
              "</table>\n",
              "</div>"
            ],
            "text/plain": [
              "                  Date    Close\n",
              "Date                           \n",
              "2010-01-04  2010-01-04  1135.60\n",
              "2010-01-05  2010-01-05  1134.60\n",
              "2010-01-06  2010-01-06  1139.60\n",
              "2010-01-07  2010-01-07  1144.15\n",
              "2010-01-08  2010-01-08  1144.05"
            ]
          },
          "metadata": {
            "tags": []
          },
          "execution_count": 10
        }
      ]
    },
    {
      "cell_type": "code",
      "metadata": {
        "colab": {
          "base_uri": "https://localhost:8080/",
          "height": 225
        },
        "id": "4bKJDWT5pCce",
        "outputId": "13c6b628-dc92-4be9-c1f4-97b79f2e9e3a"
      },
      "source": [
        "glaxo_df = glaxo_df.set_index(pd.DatetimeIndex(glaxo_df['Date']))\r\n",
        "glaxo_df.head()"
      ],
      "execution_count": 11,
      "outputs": [
        {
          "output_type": "execute_result",
          "data": {
            "text/html": [
              "<div>\n",
              "<style scoped>\n",
              "    .dataframe tbody tr th:only-of-type {\n",
              "        vertical-align: middle;\n",
              "    }\n",
              "\n",
              "    .dataframe tbody tr th {\n",
              "        vertical-align: top;\n",
              "    }\n",
              "\n",
              "    .dataframe thead th {\n",
              "        text-align: right;\n",
              "    }\n",
              "</style>\n",
              "<table border=\"1\" class=\"dataframe\">\n",
              "  <thead>\n",
              "    <tr style=\"text-align: right;\">\n",
              "      <th></th>\n",
              "      <th>Date</th>\n",
              "      <th>Close</th>\n",
              "    </tr>\n",
              "    <tr>\n",
              "      <th>Date</th>\n",
              "      <th></th>\n",
              "      <th></th>\n",
              "    </tr>\n",
              "  </thead>\n",
              "  <tbody>\n",
              "    <tr>\n",
              "      <th>2010-01-04</th>\n",
              "      <td>2010-01-04</td>\n",
              "      <td>1625.65</td>\n",
              "    </tr>\n",
              "    <tr>\n",
              "      <th>2010-01-05</th>\n",
              "      <td>2010-01-05</td>\n",
              "      <td>1616.80</td>\n",
              "    </tr>\n",
              "    <tr>\n",
              "      <th>2010-01-06</th>\n",
              "      <td>2010-01-06</td>\n",
              "      <td>1638.50</td>\n",
              "    </tr>\n",
              "    <tr>\n",
              "      <th>2010-01-07</th>\n",
              "      <td>2010-01-07</td>\n",
              "      <td>1648.70</td>\n",
              "    </tr>\n",
              "    <tr>\n",
              "      <th>2010-01-08</th>\n",
              "      <td>2010-01-08</td>\n",
              "      <td>1639.80</td>\n",
              "    </tr>\n",
              "  </tbody>\n",
              "</table>\n",
              "</div>"
            ],
            "text/plain": [
              "                  Date    Close\n",
              "Date                           \n",
              "2010-01-04  2010-01-04  1625.65\n",
              "2010-01-05  2010-01-05  1616.80\n",
              "2010-01-06  2010-01-06  1638.50\n",
              "2010-01-07  2010-01-07  1648.70\n",
              "2010-01-08  2010-01-08  1639.80"
            ]
          },
          "metadata": {
            "tags": []
          },
          "execution_count": 11
        }
      ]
    },
    {
      "cell_type": "code",
      "metadata": {
        "id": "ms0uh7StpNRE"
      },
      "source": [
        "import matplotlib.pyplot as plt\r\n",
        "import seaborn as sns\r\n",
        "%matplotlib inline"
      ],
      "execution_count": 12,
      "outputs": []
    },
    {
      "cell_type": "code",
      "metadata": {
        "colab": {
          "base_uri": "https://localhost:8080/",
          "height": 296
        },
        "id": "ausxEDZspeTh",
        "outputId": "9d5e70ce-94f3-4fad-8c27-dc69a568de49"
      },
      "source": [
        "plt.plot(glaxo_df.Close)\r\n",
        "plt.xlabel('Time')\r\n",
        "plt.ylabel('Closing Price')"
      ],
      "execution_count": 15,
      "outputs": [
        {
          "output_type": "execute_result",
          "data": {
            "text/plain": [
              "Text(0, 0.5, 'Closing Price')"
            ]
          },
          "metadata": {
            "tags": []
          },
          "execution_count": 15
        },
        {
          "output_type": "display_data",
          "data": {
            "image/png": "[encoded data removed]",
            "text/plain": [
              "<Figure size 432x288 with 1 Axes>"
            ]
          },
          "metadata": {
            "tags": [],
            "needs_background": "light"
          }
        }
      ]
    },
    {
      "cell_type": "code",
      "metadata": {
        "colab": {
          "base_uri": "https://localhost:8080/",
          "height": 296
        },
        "id": "ahiUeR-dph4M",
        "outputId": "d37e991b-8a5c-4e45-9306-4bd41c1380ec"
      },
      "source": [
        "plt.plot(beml_df.Close)\r\n",
        "plt.xlabel('Time')\r\n",
        "plt.ylabel('Closing Price')"
      ],
      "execution_count": 16,
      "outputs": [
        {
          "output_type": "execute_result",
          "data": {
            "text/plain": [
              "Text(0, 0.5, 'Closing Price')"
            ]
          },
          "metadata": {
            "tags": []
          },
          "execution_count": 16
        },
        {
          "output_type": "display_data",
          "data": {
            "image/png": "[encoded data removed]",
            "text/plain": [
              "<Figure size 432x288 with 1 Axes>"
            ]
          },
          "metadata": {
            "tags": [],
            "needs_background": "light"
          }
        }
      ]
    },
    {
      "cell_type": "code",
      "metadata": {
        "id": "a4cnIWp8p-Rg"
      },
      "source": [
        "glaxo_df['gain'] = glaxo_df.Close.pct_change( periods = 1 )\r\n",
        "beml_df['gain'] = beml_df.Close.pct_change( periods = 1 ) \r\n",
        "#pct_change() function calculates the percentage change between the current and a prior element. \r\n",
        "#This function by default calculates the percentage change from the immediately previous row."
      ],
      "execution_count": 17,
      "outputs": []
    },
    {
      "cell_type": "code",
      "metadata": {
        "colab": {
          "base_uri": "https://localhost:8080/",
          "height": 225
        },
        "id": "6jVohYmzqyae",
        "outputId": "bf5d0111-e538-4d31-a4c8-5cf6e6b7fac9"
      },
      "source": [
        "glaxo_df.head()"
      ],
      "execution_count": 18,
      "outputs": [
        {
          "output_type": "execute_result",
          "data": {
            "text/html": [
              "<div>\n",
              "<style scoped>\n",
              "    .dataframe tbody tr th:only-of-type {\n",
              "        vertical-align: middle;\n",
              "    }\n",
              "\n",
              "    .dataframe tbody tr th {\n",
              "        vertical-align: top;\n",
              "    }\n",
              "\n",
              "    .dataframe thead th {\n",
              "        text-align: right;\n",
              "    }\n",
              "</style>\n",
              "<table border=\"1\" class=\"dataframe\">\n",
              "  <thead>\n",
              "    <tr style=\"text-align: right;\">\n",
              "      <th></th>\n",
              "      <th>Date</th>\n",
              "      <th>Close</th>\n",
              "      <th>gain</th>\n",
              "    </tr>\n",
              "    <tr>\n",
              "      <th>Date</th>\n",
              "      <th></th>\n",
              "      <th></th>\n",
              "      <th></th>\n",
              "    </tr>\n",
              "  </thead>\n",
              "  <tbody>\n",
              "    <tr>\n",
              "      <th>2010-01-04</th>\n",
              "      <td>2010-01-04</td>\n",
              "      <td>1625.65</td>\n",
              "      <td>NaN</td>\n",
              "    </tr>\n",
              "    <tr>\n",
              "      <th>2010-01-05</th>\n",
              "      <td>2010-01-05</td>\n",
              "      <td>1616.80</td>\n",
              "      <td>-0.005444</td>\n",
              "    </tr>\n",
              "    <tr>\n",
              "      <th>2010-01-06</th>\n",
              "      <td>2010-01-06</td>\n",
              "      <td>1638.50</td>\n",
              "      <td>0.013422</td>\n",
              "    </tr>\n",
              "    <tr>\n",
              "      <th>2010-01-07</th>\n",
              "      <td>2010-01-07</td>\n",
              "      <td>1648.70</td>\n",
              "      <td>0.006225</td>\n",
              "    </tr>\n",
              "    <tr>\n",
              "      <th>2010-01-08</th>\n",
              "      <td>2010-01-08</td>\n",
              "      <td>1639.80</td>\n",
              "      <td>-0.005398</td>\n",
              "    </tr>\n",
              "  </tbody>\n",
              "</table>\n",
              "</div>"
            ],
            "text/plain": [
              "                  Date    Close      gain\n",
              "Date                                     \n",
              "2010-01-04  2010-01-04  1625.65       NaN\n",
              "2010-01-05  2010-01-05  1616.80 -0.005444\n",
              "2010-01-06  2010-01-06  1638.50  0.013422\n",
              "2010-01-07  2010-01-07  1648.70  0.006225\n",
              "2010-01-08  2010-01-08  1639.80 -0.005398"
            ]
          },
          "metadata": {
            "tags": []
          },
          "execution_count": 18
        }
      ]
    },
    {
      "cell_type": "code",
      "metadata": {
        "colab": {
          "base_uri": "https://localhost:8080/",
          "height": 225
        },
        "id": "rn3v8wiOq0N1",
        "outputId": "bd2c3994-026d-4d53-f3e9-899bead13182"
      },
      "source": [
        "beml_df.head()"
      ],
      "execution_count": 19,
      "outputs": [
        {
          "output_type": "execute_result",
          "data": {
            "text/html": [
              "<div>\n",
              "<style scoped>\n",
              "    .dataframe tbody tr th:only-of-type {\n",
              "        vertical-align: middle;\n",
              "    }\n",
              "\n",
              "    .dataframe tbody tr th {\n",
              "        vertical-align: top;\n",
              "    }\n",
              "\n",
              "    .dataframe thead th {\n",
              "        text-align: right;\n",
              "    }\n",
              "</style>\n",
              "<table border=\"1\" class=\"dataframe\">\n",
              "  <thead>\n",
              "    <tr style=\"text-align: right;\">\n",
              "      <th></th>\n",
              "      <th>Date</th>\n",
              "      <th>Close</th>\n",
              "      <th>gain</th>\n",
              "    </tr>\n",
              "    <tr>\n",
              "      <th>Date</th>\n",
              "      <th></th>\n",
              "      <th></th>\n",
              "      <th></th>\n",
              "    </tr>\n",
              "  </thead>\n",
              "  <tbody>\n",
              "    <tr>\n",
              "      <th>2010-01-04</th>\n",
              "      <td>2010-01-04</td>\n",
              "      <td>1135.60</td>\n",
              "      <td>NaN</td>\n",
              "    </tr>\n",
              "    <tr>\n",
              "      <th>2010-01-05</th>\n",
              "      <td>2010-01-05</td>\n",
              "      <td>1134.60</td>\n",
              "      <td>-0.000881</td>\n",
              "    </tr>\n",
              "    <tr>\n",
              "      <th>2010-01-06</th>\n",
              "      <td>2010-01-06</td>\n",
              "      <td>1139.60</td>\n",
              "      <td>0.004407</td>\n",
              "    </tr>\n",
              "    <tr>\n",
              "      <th>2010-01-07</th>\n",
              "      <td>2010-01-07</td>\n",
              "      <td>1144.15</td>\n",
              "      <td>0.003993</td>\n",
              "    </tr>\n",
              "    <tr>\n",
              "      <th>2010-01-08</th>\n",
              "      <td>2010-01-08</td>\n",
              "      <td>1144.05</td>\n",
              "      <td>-0.000087</td>\n",
              "    </tr>\n",
              "  </tbody>\n",
              "</table>\n",
              "</div>"
            ],
            "text/plain": [
              "                  Date    Close      gain\n",
              "Date                                     \n",
              "2010-01-04  2010-01-04  1135.60       NaN\n",
              "2010-01-05  2010-01-05  1134.60 -0.000881\n",
              "2010-01-06  2010-01-06  1139.60  0.004407\n",
              "2010-01-07  2010-01-07  1144.15  0.003993\n",
              "2010-01-08  2010-01-08  1144.05 -0.000087"
            ]
          },
          "metadata": {
            "tags": []
          },
          "execution_count": 19
        }
      ]
    },
    {
      "cell_type": "code",
      "metadata": {
        "id": "Kd3YN71dq2Xe"
      },
      "source": [
        "glaxo_df = glaxo_df.dropna()\r\n",
        "beml_df = beml_df.dropna()\r\n",
        "#remove null values"
      ],
      "execution_count": 21,
      "outputs": []
    },
    {
      "cell_type": "code",
      "metadata": {
        "colab": {
          "base_uri": "https://localhost:8080/",
          "height": 225
        },
        "id": "5en1g7FHq5tC",
        "outputId": "2d186230-4505-4724-d9c0-ad52f8155e10"
      },
      "source": [
        "glaxo_df.head()"
      ],
      "execution_count": 22,
      "outputs": [
        {
          "output_type": "execute_result",
          "data": {
            "text/html": [
              "<div>\n",
              "<style scoped>\n",
              "    .dataframe tbody tr th:only-of-type {\n",
              "        vertical-align: middle;\n",
              "    }\n",
              "\n",
              "    .dataframe tbody tr th {\n",
              "        vertical-align: top;\n",
              "    }\n",
              "\n",
              "    .dataframe thead th {\n",
              "        text-align: right;\n",
              "    }\n",
              "</style>\n",
              "<table border=\"1\" class=\"dataframe\">\n",
              "  <thead>\n",
              "    <tr style=\"text-align: right;\">\n",
              "      <th></th>\n",
              "      <th>Date</th>\n",
              "      <th>Close</th>\n",
              "      <th>gain</th>\n",
              "    </tr>\n",
              "    <tr>\n",
              "      <th>Date</th>\n",
              "      <th></th>\n",
              "      <th></th>\n",
              "      <th></th>\n",
              "    </tr>\n",
              "  </thead>\n",
              "  <tbody>\n",
              "    <tr>\n",
              "      <th>2010-01-05</th>\n",
              "      <td>2010-01-05</td>\n",
              "      <td>1616.80</td>\n",
              "      <td>-0.005444</td>\n",
              "    </tr>\n",
              "    <tr>\n",
              "      <th>2010-01-06</th>\n",
              "      <td>2010-01-06</td>\n",
              "      <td>1638.50</td>\n",
              "      <td>0.013422</td>\n",
              "    </tr>\n",
              "    <tr>\n",
              "      <th>2010-01-07</th>\n",
              "      <td>2010-01-07</td>\n",
              "      <td>1648.70</td>\n",
              "      <td>0.006225</td>\n",
              "    </tr>\n",
              "    <tr>\n",
              "      <th>2010-01-08</th>\n",
              "      <td>2010-01-08</td>\n",
              "      <td>1639.80</td>\n",
              "      <td>-0.005398</td>\n",
              "    </tr>\n",
              "    <tr>\n",
              "      <th>2010-01-11</th>\n",
              "      <td>2010-01-11</td>\n",
              "      <td>1629.45</td>\n",
              "      <td>-0.006312</td>\n",
              "    </tr>\n",
              "  </tbody>\n",
              "</table>\n",
              "</div>"
            ],
            "text/plain": [
              "                  Date    Close      gain\n",
              "Date                                     \n",
              "2010-01-05  2010-01-05  1616.80 -0.005444\n",
              "2010-01-06  2010-01-06  1638.50  0.013422\n",
              "2010-01-07  2010-01-07  1648.70  0.006225\n",
              "2010-01-08  2010-01-08  1639.80 -0.005398\n",
              "2010-01-11  2010-01-11  1629.45 -0.006312"
            ]
          },
          "metadata": {
            "tags": []
          },
          "execution_count": 22
        }
      ]
    },
    {
      "cell_type": "code",
      "metadata": {
        "colab": {
          "base_uri": "https://localhost:8080/",
          "height": 225
        },
        "id": "vViexT2zrNOV",
        "outputId": "6c1baec0-d079-4753-a77a-0781e4350fc1"
      },
      "source": [
        "beml_df.head()"
      ],
      "execution_count": 23,
      "outputs": [
        {
          "output_type": "execute_result",
          "data": {
            "text/html": [
              "<div>\n",
              "<style scoped>\n",
              "    .dataframe tbody tr th:only-of-type {\n",
              "        vertical-align: middle;\n",
              "    }\n",
              "\n",
              "    .dataframe tbody tr th {\n",
              "        vertical-align: top;\n",
              "    }\n",
              "\n",
              "    .dataframe thead th {\n",
              "        text-align: right;\n",
              "    }\n",
              "</style>\n",
              "<table border=\"1\" class=\"dataframe\">\n",
              "  <thead>\n",
              "    <tr style=\"text-align: right;\">\n",
              "      <th></th>\n",
              "      <th>Date</th>\n",
              "      <th>Close</th>\n",
              "      <th>gain</th>\n",
              "    </tr>\n",
              "    <tr>\n",
              "      <th>Date</th>\n",
              "      <th></th>\n",
              "      <th></th>\n",
              "      <th></th>\n",
              "    </tr>\n",
              "  </thead>\n",
              "  <tbody>\n",
              "    <tr>\n",
              "      <th>2010-01-05</th>\n",
              "      <td>2010-01-05</td>\n",
              "      <td>1134.60</td>\n",
              "      <td>-0.000881</td>\n",
              "    </tr>\n",
              "    <tr>\n",
              "      <th>2010-01-06</th>\n",
              "      <td>2010-01-06</td>\n",
              "      <td>1139.60</td>\n",
              "      <td>0.004407</td>\n",
              "    </tr>\n",
              "    <tr>\n",
              "      <th>2010-01-07</th>\n",
              "      <td>2010-01-07</td>\n",
              "      <td>1144.15</td>\n",
              "      <td>0.003993</td>\n",
              "    </tr>\n",
              "    <tr>\n",
              "      <th>2010-01-08</th>\n",
              "      <td>2010-01-08</td>\n",
              "      <td>1144.05</td>\n",
              "      <td>-0.000087</td>\n",
              "    </tr>\n",
              "    <tr>\n",
              "      <th>2010-01-11</th>\n",
              "      <td>2010-01-11</td>\n",
              "      <td>1137.00</td>\n",
              "      <td>-0.006162</td>\n",
              "    </tr>\n",
              "  </tbody>\n",
              "</table>\n",
              "</div>"
            ],
            "text/plain": [
              "                  Date    Close      gain\n",
              "Date                                     \n",
              "2010-01-05  2010-01-05  1134.60 -0.000881\n",
              "2010-01-06  2010-01-06  1139.60  0.004407\n",
              "2010-01-07  2010-01-07  1144.15  0.003993\n",
              "2010-01-08  2010-01-08  1144.05 -0.000087\n",
              "2010-01-11  2010-01-11  1137.00 -0.006162"
            ]
          },
          "metadata": {
            "tags": []
          },
          "execution_count": 23
        }
      ]
    },
    {
      "cell_type": "code",
      "metadata": {
        "colab": {
          "base_uri": "https://localhost:8080/",
          "height": 383
        },
        "id": "AGw6KW8BrPKF",
        "outputId": "95a7f3e2-ef2f-44d7-f6c8-432aca80ca1c"
      },
      "source": [
        "sns.distplot(glaxo_df.gain , label = 'Glaxo')\r\n",
        "sns.distplot(beml_df.gain , label = 'Beml')\r\n",
        "plt.xlabel('Gain')\r\n",
        "plt.ylabel('Density')\r\n",
        "plt.legend()"
      ],
      "execution_count": 26,
      "outputs": [
        {
          "output_type": "stream",
          "text": [
            "/usr/local/lib/python3.6/dist-packages/seaborn/distributions.py:2551: FutureWarning: `distplot` is a deprecated function and will be removed in a future version. Please adapt your code to use either `displot` (a figure-level function with similar flexibility) or `histplot` (an axes-level function for histograms).\n",
            "  warnings.warn(msg, FutureWarning)\n",
            "/usr/local/lib/python3.6/dist-packages/seaborn/distributions.py:2551: FutureWarning: `distplot` is a deprecated function and will be removed in a future version. Please adapt your code to use either `displot` (a figure-level function with similar flexibility) or `histplot` (an axes-level function for histograms).\n",
            "  warnings.warn(msg, FutureWarning)\n"
          ],
          "name": "stderr"
        },
        {
          "output_type": "execute_result",
          "data": {
            "text/plain": [
              "<matplotlib.legend.Legend at 0x7f682bfe5e10>"
            ]
          },
          "metadata": {
            "tags": []
          },
          "execution_count": 26
        },
        {
          "output_type": "display_data",
          "data": {
            "image/png": "[encoded data removed]",
            "text/plain": [
              "<Figure size 432x288 with 1 Axes>"
            ]
          },
          "metadata": {
            "tags": [],
            "needs_background": "light"
          }
        }
      ]
    },
    {
      "cell_type": "markdown",
      "metadata": {
        "id": "AT9dDF86tDkv"
      },
      "source": [
        "# **Mean And Variance:**"
      ]
    },
    {
      "cell_type": "code",
      "metadata": {
        "colab": {
          "base_uri": "https://localhost:8080/"
        },
        "id": "BwEITc1qtGqn",
        "outputId": "096cc432-9516-4e1b-ae6c-9426460299a4"
      },
      "source": [
        "print( \"Daily gain of Glaxo:\")\r\n",
        "print( \"Mean: \", round(glaxo_df.gain.mean(), 4) )\r\n",
        "print( \"Standard Deviation: \", round(glaxo_df.gain.std(), 4) )"
      ],
      "execution_count": 27,
      "outputs": [
        {
          "output_type": "stream",
          "text": [
            "Daily gain of Glaxo:\n",
            "Mean:  0.0004\n",
            "Standard Deviation:  0.0134\n"
          ],
          "name": "stdout"
        }
      ]
    },
    {
      "cell_type": "code",
      "metadata": {
        "colab": {
          "base_uri": "https://localhost:8080/"
        },
        "id": "TS99vT5LtUbZ",
        "outputId": "91999d55-d925-43d4-dd73-7ac433a6426e"
      },
      "source": [
        "print( \"Daily gain of Glaxo:\")\r\n",
        "print( \"Mean: \", round(beml_df.gain.mean(), 4) )\r\n",
        "print( \"Standard Deviation: \", round(beml_df.gain.std(), 4) )"
      ],
      "execution_count": 28,
      "outputs": [
        {
          "output_type": "stream",
          "text": [
            "Daily gain of Glaxo:\n",
            "Mean:  0.0003\n",
            "Standard Deviation:  0.0264\n"
          ],
          "name": "stdout"
        }
      ]
    },
    {
      "cell_type": "markdown",
      "metadata": {
        "id": "UBnn3ZW4ttAb"
      },
      "source": [
        "# **Confidence Interval:**"
      ]
    },
    {
      "cell_type": "code",
      "metadata": {
        "colab": {
          "base_uri": "https://localhost:8080/"
        },
        "id": "5ZiATu_etZbw",
        "outputId": "84cb2a28-fcd3-4f8b-a18c-edcec1cf0c89"
      },
      "source": [
        "from scipy import stats\r\n",
        "glaxo_df_ci = stats.norm.interval(0.95,loc = glaxo_df.gain.mean(),scale = glaxo_df.gain.std())\r\n",
        "print( \"Gain at 95% confidence interval is:\", np.round(glaxo_df_ci, 4) )"
      ],
      "execution_count": 29,
      "outputs": [
        {
          "output_type": "stream",
          "text": [
            "Gain at 95% confidence interval is: [-0.0258  0.0266]\n"
          ],
          "name": "stdout"
        }
      ]
    },
    {
      "cell_type": "code",
      "metadata": {
        "colab": {
          "base_uri": "https://localhost:8080/"
        },
        "id": "MAe3NDwHuFRY",
        "outputId": "4bbe214f-412a-4e23-c54a-e7a59bfb9ebf"
      },
      "source": [
        "beml_df_ci = stats.norm.interval(0.95,loc = beml_df.gain.mean(),scale = beml_df.gain.std())\r\n",
        "print( \"Gain at 95% confidence interval is:\", np.round(beml_df_ci, 4) )"
      ],
      "execution_count": 30,
      "outputs": [
        {
          "output_type": "stream",
          "text": [
            "Gain at 95% confidence interval is: [-0.0515  0.0521]\n"
          ],
          "name": "stdout"
        }
      ]
    },
    {
      "cell_type": "markdown",
      "metadata": {
        "id": "K93gr8TiuRMJ"
      },
      "source": [
        "# **Cumulative Probability Distribution:**"
      ]
    },
    {
      "cell_type": "code",
      "metadata": {
        "colab": {
          "base_uri": "https://localhost:8080/"
        },
        "id": "W7SZIoRmuYDo",
        "outputId": "c03d0ad0-fe95-4dd0-9b1f-950bdbdeafd0"
      },
      "source": [
        "print( \"Probability of making 2% gain or higher in Glaxo: \",\r\n",
        "1 - stats.norm.cdf( 0.02,\r\n",
        "loc=glaxo_df.gain.mean(),\r\n",
        "scale=glaxo_df.gain.std()) )\r\n",
        "\r\n",
        "print( \"Probability of making 2% gain or higher in Beml: \",\r\n",
        "1 - stats.norm.cdf( 0.02,\r\n",
        "loc=beml_df.gain.mean(),\r\n",
        "scale=beml_df.gain.std()) ) "
      ],
      "execution_count": 31,
      "outputs": [
        {
          "output_type": "stream",
          "text": [
            "Probability of making 2% gain or higher in Glaxo:  0.07104511457618568\n",
            "Probability of making 2% gain or higher in BEML:  0.22769829484075343\n"
          ],
          "name": "stdout"
        }
      ]
    },
    {
      "cell_type": "code",
      "metadata": {
        "id": "YVWztFTLu4mn"
      },
      "source": [
        ""
      ],
      "execution_count": null,
      "outputs": []
    }
  ]
}